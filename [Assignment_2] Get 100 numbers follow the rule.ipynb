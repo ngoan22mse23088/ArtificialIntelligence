{
  "cells": [
    {
      "cell_type": "markdown",
      "metadata": {
        "id": "view-in-github",
        "colab_type": "text"
      },
      "source": [
        "<a href=\"https://colab.research.google.com/github/ngoan22mse23088/ArtificialIntelligence/blob/master/%5BAssignment_2%5D%20Get%20100%20numbers%20follow%20the%20rule.ipynb\" target=\"_parent\"><img src=\"https://colab.research.google.com/assets/colab-badge.svg\" alt=\"Open In Colab\"/></a>"
      ]
    },
    {
      "cell_type": "markdown",
      "metadata": {
        "id": "CT56K7YjEvn_"
      },
      "source": [
        "# Problem Statement\n",
        "lấy 100 số tự nhiên đầu tiên theo qui luật :\n",
        "x0 = 1, x1 = 1.\n",
        "Xn = x(n-1) + 2 * (xn-2) với n>=2 .\n",
        "Xây dựng cải tiến liên tục các mô hình học máy cho qui luật trên. đánh giá hiệu quả của mô hình cuối cùng,"
      ],
      "id": "CT56K7YjEvn_"
    },
    {
      "cell_type": "markdown",
      "metadata": {
        "id": "9f33d279"
      },
      "source": [
        "##  Lập trình qui luật và tạo dữ liệu\n",
        "\n",
        "\n"
      ],
      "id": "9f33d279"
    },
    {
      "cell_type": "code",
      "source": [
        "# Lập trình qui luật và tạo dữ liệu\n",
        "def generate_sequence(n):\n",
        "    sequence = [1, 1]\n",
        "    for i in range(2, n):\n",
        "        next_term = sequence[i - 1] + 2 * sequence[i - 2]\n",
        "        sequence.append(next_term)\n",
        "    return sequence\n",
        "# Thử nghiệm với 10 số đầu tiên\n",
        "# x0 = x1 = 1\n",
        "# x2 = x1 + (2 * x0) = 1 + 2 = 3\n",
        "# x3 = x2 + (2 * x1) = 3 + 2 = 5\n",
        "# x4 = 11 ; x5 = 21 ; x6 = 43...\n",
        "\n",
        "n = 10\n",
        "sequence = generate_sequence(n)\n",
        "print(sequence)\n",
        "\n",
        "# Tạo dữ liệu huấn luyện và mục tiêu\n",
        "X_train = np.array(sequence[:-1]).reshape(-1, 1)\n",
        "y_train = np.array(sequence[1:])\n",
        "\n",
        "print(\"X_train shape:\", X_train.shape)\n",
        "print(\"y_train shape:\", y_train.shape)"
      ],
      "metadata": {
        "id": "wua_6TYnFpPa",
        "colab": {
          "base_uri": "https://localhost:8080/"
        },
        "outputId": "6338f63f-930f-442f-e155-2e04e2171ef0"
      },
      "id": "wua_6TYnFpPa",
      "execution_count": 46,
      "outputs": [
        {
          "output_type": "stream",
          "name": "stdout",
          "text": [
            "[1, 1, 3, 5, 11, 21, 43, 85, 171, 341]\n",
            "X_train shape: (9, 1)\n",
            "y_train shape: (9,)\n"
          ]
        }
      ]
    },
    {
      "cell_type": "markdown",
      "source": [
        "## Xây dựng mô hình học máy"
      ],
      "metadata": {
        "id": "UHv4O_O4Cf07"
      },
      "id": "UHv4O_O4Cf07"
    },
    {
      "cell_type": "code",
      "source": [
        "import numpy as np\n",
        "from sklearn.model_selection import train_test_split\n",
        "from sklearn.linear_model import LinearRegression\n",
        "from sklearn.metrics import mean_squared_error\n",
        "\n",
        "# Chuẩn bị dữ liệu cho việc xây dựng mô hình\n",
        "X = np.arange(2, n).reshape(-1, 1)\n",
        "y = np.array(sequence[2:])\n",
        "\n",
        "# Chia dữ liệu thành tập huấn luyện và tập kiểm tra\n",
        "X_train, X_test, y_train, y_test = train_test_split(X, y, test_size=0.2, random_state=42)\n",
        "\n",
        "# Xây dựng mô hình học máy (ví dụ: Linear Regression)\n",
        "model = LinearRegression()\n",
        "model.fit(X_train, y_train)\n",
        "\n",
        "# Đánh giá mô hình trên tập kiểm tra\n",
        "y_pred = model.predict(X_test)\n",
        "mse = mean_squared_error(y_test, y_pred)\n",
        "print(\"Mean Squared Error:\", mse)"
      ],
      "metadata": {
        "colab": {
          "base_uri": "https://localhost:8080/"
        },
        "id": "hrQG8hZwCgnb",
        "outputId": "a6b14b62-d603-45a0-b002-428af1c613bc"
      },
      "id": "hrQG8hZwCgnb",
      "execution_count": 47,
      "outputs": [
        {
          "output_type": "stream",
          "name": "stdout",
          "text": [
            "Mean Squared Error: 3078.399999999998\n"
          ]
        }
      ]
    },
    {
      "cell_type": "code",
      "source": [
        "from keras.models import Sequential\n",
        "from keras.layers import Dense\n",
        "\n",
        "# Tạo dãy số và chuẩn bị dữ liệu\n",
        "def generate_sequence(n):\n",
        "    sequence = [1, 1]\n",
        "    for i in range(2, n):\n",
        "        next_term = sequence[i - 1] + 2 * sequence[i - 2]\n",
        "        sequence.append(next_term)\n",
        "    return sequence\n",
        "\n",
        "n = 10\n",
        "sequence = generate_sequence(n)\n",
        "print(sequence)\n",
        "\n",
        "# Chuẩn bị dữ liệu huấn luyện\n",
        "X_train = np.array(sequence[:-1]).reshape(-1, 1).astype('float32')  # Ép kiểu thành float32\n",
        "y_train = np.array(sequence[1:]).astype('float32')                   # Ép kiểu thành float32\n",
        "\n",
        "# Xây dựng mô hình Neural Network\n",
        "model = Sequential()\n",
        "model.add(Dense(units=50, activation='relu', input_dim=1))\n",
        "model.add(Dense(units=1))\n",
        "model.compile(optimizer='adam', loss='mean_squared_error')\n",
        "\n",
        "# Huấn luyện mô hình\n",
        "model.fit(X_train, y_train, batch_size=1, epochs=10)\n",
        "\n",
        "# Dự đoán các số tiếp theo trong dãy\n",
        "X_pred = np.array([sequence[-1]]).astype('float32')\n",
        "predicted_next_term = model.predict(X_pred)\n",
        "\n",
        "print(\"Predicted next term:\", predicted_next_term)"
      ],
      "metadata": {
        "id": "XMu-xFOAJWRd",
        "outputId": "09a68e1e-2b15-4664-ab6f-2fa8714e0522",
        "colab": {
          "base_uri": "https://localhost:8080/"
        }
      },
      "id": "XMu-xFOAJWRd",
      "execution_count": 48,
      "outputs": [
        {
          "output_type": "stream",
          "name": "stdout",
          "text": [
            "[1, 1, 3, 5, 11, 21, 43, 85, 171, 341]\n",
            "Epoch 1/10\n",
            "9/9 [==============================] - 0s 2ms/step - loss: 17338.3359\n",
            "Epoch 2/10\n",
            "9/9 [==============================] - 0s 2ms/step - loss: 16558.0137\n",
            "Epoch 3/10\n",
            "9/9 [==============================] - 0s 2ms/step - loss: 16058.9170\n",
            "Epoch 4/10\n",
            "9/9 [==============================] - 0s 2ms/step - loss: 15746.7861\n",
            "Epoch 5/10\n",
            "9/9 [==============================] - 0s 2ms/step - loss: 15104.5781\n",
            "Epoch 6/10\n",
            "9/9 [==============================] - 0s 2ms/step - loss: 14393.7285\n",
            "Epoch 7/10\n",
            "9/9 [==============================] - 0s 2ms/step - loss: 14082.3838\n",
            "Epoch 8/10\n",
            "9/9 [==============================] - 0s 2ms/step - loss: 13550.7783\n",
            "Epoch 9/10\n",
            "9/9 [==============================] - 0s 2ms/step - loss: 12952.1270\n",
            "Epoch 10/10\n",
            "9/9 [==============================] - 0s 2ms/step - loss: 12469.8936\n",
            "1/1 [==============================] - 0s 56ms/step\n",
            "Predicted next term: [[104.82982]]\n"
          ]
        }
      ]
    },
    {
      "cell_type": "code",
      "source": [
        "import numpy as np\n",
        "from keras.models import Sequential\n",
        "from keras.layers import LSTM, Dense\n",
        "\n",
        "# Tạo dãy số và chuẩn bị dữ liệu\n",
        "def generate_sequence(n):\n",
        "    sequence = [1, 1]\n",
        "    for i in range(2, n):\n",
        "        next_term = sequence[i - 1] + 2 * sequence[i - 2]\n",
        "        sequence.append(next_term)\n",
        "    return sequence\n",
        "\n",
        "n = 10\n",
        "sequence = generate_sequence(n)\n",
        "print(sequence)\n",
        "\n",
        "# Chuẩn bị dữ liệu huấn luyện\n",
        "X_train = np.array(sequence[:-1]).reshape(-1, 1, 1).astype('float32')\n",
        "y_train = np.array(sequence[1:]).reshape(-1, 1).astype('float32')\n",
        "\n",
        "# Xây dựng mô hình LSTM\n",
        "model = Sequential()\n",
        "model.add(LSTM(units=50, activation='relu', input_shape=(1, 1)))\n",
        "model.add(Dense(units=1))\n",
        "model.compile(optimizer='adam', loss='mean_squared_error')\n",
        "\n",
        "# Huấn luyện mô hình\n",
        "model.fit(X_train, y_train, batch_size=1, epochs=10)\n",
        "\n",
        "# Dự đoán các số tiếp theo trong dãy\n",
        "# Ép kiểu dữ liệu của X_pred thành float32\n",
        "X_pred = np.array([sequence[-1]]).reshape(-1, 1, 1).astype('float32')\n",
        "\n",
        "# Dự đoán các số tiếp theo trong dãy\n",
        "predicted_next_term = model.predict(X_pred)\n",
        "\n",
        "print(\"Predicted next term:\", predicted_next_term)"
      ],
      "metadata": {
        "id": "lF6fxi4sHZ0E",
        "outputId": "99d2c4b5-db93-45de-e348-b159ef31d76a",
        "colab": {
          "base_uri": "https://localhost:8080/"
        }
      },
      "id": "lF6fxi4sHZ0E",
      "execution_count": 49,
      "outputs": [
        {
          "output_type": "stream",
          "name": "stdout",
          "text": [
            "[1, 1, 3, 5, 11, 21, 43, 85, 171, 341]\n",
            "Epoch 1/10\n",
            "9/9 [==============================] - 1s 2ms/step - loss: 17422.4785\n",
            "Epoch 2/10\n",
            "9/9 [==============================] - 0s 3ms/step - loss: 17336.9902\n",
            "Epoch 3/10\n",
            "9/9 [==============================] - 0s 3ms/step - loss: 17165.1953\n",
            "Epoch 4/10\n",
            "9/9 [==============================] - 0s 4ms/step - loss: 17014.4004\n",
            "Epoch 5/10\n",
            "9/9 [==============================] - 0s 2ms/step - loss: 16820.0371\n",
            "Epoch 6/10\n",
            "9/9 [==============================] - 0s 3ms/step - loss: 16506.4512\n",
            "Epoch 7/10\n",
            "9/9 [==============================] - 0s 3ms/step - loss: 16072.9326\n",
            "Epoch 8/10\n",
            "9/9 [==============================] - 0s 2ms/step - loss: 15744.4893\n",
            "Epoch 9/10\n",
            "9/9 [==============================] - 0s 3ms/step - loss: 15511.9375\n",
            "Epoch 10/10\n",
            "9/9 [==============================] - 0s 3ms/step - loss: 15050.4219\n",
            "1/1 [==============================] - 0s 172ms/step\n",
            "Predicted next term: [[49.072693]]\n"
          ]
        }
      ]
    },
    {
      "cell_type": "code",
      "source": [
        "# Lập trình qui luật và tạo dữ liệu\n",
        "def generate_sequence(n):\n",
        "    sequence = [1, 1]\n",
        "    for i in range(2, n):\n",
        "        next_term = sequence[i - 1] + 2 * sequence[i - 2]\n",
        "        sequence.append(next_term)\n",
        "    return sequence\n",
        "\n",
        "n = 11\n",
        "sequence = generate_sequence(n)\n",
        "print(sequence)"
      ],
      "metadata": {
        "id": "GtveI5fmGrkz",
        "outputId": "125455c3-d287-4cb6-d5a7-dfb811cfe0c4",
        "colab": {
          "base_uri": "https://localhost:8080/"
        }
      },
      "id": "GtveI5fmGrkz",
      "execution_count": 51,
      "outputs": [
        {
          "output_type": "stream",
          "name": "stdout",
          "text": [
            "[1, 1, 3, 5, 11, 21, 43, 85, 171, 341, 683]\n"
          ]
        }
      ]
    },
    {
      "cell_type": "markdown",
      "source": [
        "## Nhận xét"
      ],
      "metadata": {
        "id": "WYoG_KqEKrXh"
      },
      "id": "WYoG_KqEKrXh"
    },
    {
      "cell_type": "markdown",
      "source": [
        "Với ví dụ trên, mô hình Linear Regression sẽ học cách ước tính số tiếp theo dựa trên số hiện tại. Tuy nhiên, trong trường hợp này, mô hình Linear Regression có thể không phải là lựa chọn tốt vì qui luật có tính chất không tuyến tính.\n",
        "\n",
        "Để cải thiện mô hình, bạn có thể sử dụng các mô hình học máy phức tạp hơn như Decision Trees, Random Forests, Neural Networks, hoặc LSTM (Long Short-Term Memory) trong trường hợp bạn muốn thử mô hình dự đoán dãy số có tính chất thời gian.\n",
        "\n",
        "Qui luật của minh không phải là một chuỗi thời gian, do đó, việc sử dụng mô hình RNN có thể không phù hợp. Đối với bài toán này, các mô hình học máy cơ bản như Linear Regression, Decision Trees, Random Forests hoặc Gradient Boosting có thể hoạt động tốt.\n",
        "\n",
        "Lưu ý rằng dựa trên qui luật của bạn, dãy số sẽ tăng rất nhanh và có thể gây ra vấn đề về quy mô (scale) khi sử dụng một số mô hình. Cần thử nghiệm và điều chỉnh các mô hình khác nhau để xem mô hình nào hoạt động tốt nhất cho bài toán này."
      ],
      "metadata": {
        "id": "gXJ-mhlcDyP9"
      },
      "id": "gXJ-mhlcDyP9"
    }
  ],
  "metadata": {
    "colab": {
      "provenance": [],
      "toc_visible": true,
      "include_colab_link": true
    },
    "kernelspec": {
      "display_name": "Python 3",
      "language": "python",
      "name": "python3"
    },
    "language_info": {
      "codemirror_mode": {
        "name": "ipython",
        "version": 3
      },
      "file_extension": ".py",
      "mimetype": "text/x-python",
      "name": "python",
      "nbconvert_exporter": "python",
      "pygments_lexer": "ipython3",
      "version": "3.7.12"
    },
    "papermill": {
      "default_parameters": {},
      "duration": 18.48237,
      "end_time": "2023-02-07T18:43:13.916527",
      "environment_variables": {},
      "exception": null,
      "input_path": "__notebook__.ipynb",
      "output_path": "__notebook__.ipynb",
      "parameters": {},
      "start_time": "2023-02-07T18:42:55.434157",
      "version": "2.3.4"
    }
  },
  "nbformat": 4,
  "nbformat_minor": 5
}