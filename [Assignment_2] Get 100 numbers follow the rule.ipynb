{
  "cells": [
    {
      "cell_type": "markdown",
      "metadata": {
        "id": "view-in-github",
        "colab_type": "text"
      },
      "source": [
        "<a href=\"https://colab.research.google.com/github/ngoan22mse23088/ArtificialIntelligence/blob/master/%5BAssignment_2%5D%20Get%20100%20numbers%20follow%20the%20rule.ipynb\" target=\"_parent\"><img src=\"https://colab.research.google.com/assets/colab-badge.svg\" alt=\"Open In Colab\"/></a>"
      ]
    },
    {
      "cell_type": "markdown",
      "metadata": {
        "id": "CT56K7YjEvn_"
      },
      "source": [
        "# Problem Statement\n",
        "lấy 100 số tự nhiên đầu tiên theo qui luật :\n",
        "x0 = 1, x1 = 1.\n",
        "Xn = x(n-1) + 2 * (xn-2) với n>=2 .\n",
        "Xây dựng cải tiến liên tục các mô hình học máy cho qui luật trên. đánh giá hiệu quả của mô hình cuối cùng,"
      ],
      "id": "CT56K7YjEvn_"
    },
    {
      "cell_type": "markdown",
      "metadata": {
        "id": "9f33d279"
      },
      "source": [
        "##  Lập trình qui luật và tạo dữ liệu\n",
        "\n",
        "\n"
      ],
      "id": "9f33d279"
    },
    {
      "cell_type": "code",
      "source": [
        "# Lập trình qui luật và tạo dữ liệu\n",
        "def generate_sequence(n):\n",
        "    sequence = [1, 1]\n",
        "    for i in range(2, n):\n",
        "        next_term = sequence[i - 1] + 2 * sequence[i - 2]\n",
        "        sequence.append(next_term)\n",
        "    return sequence\n",
        "\n",
        "n = 100\n",
        "sequence = generate_sequence(n)\n",
        "print(sequence)"
      ],
      "metadata": {
        "id": "wua_6TYnFpPa",
        "outputId": "edea456d-86b3-440a-8c50-e9febea6fe1d",
        "colab": {
          "base_uri": "https://localhost:8080/"
        }
      },
      "id": "wua_6TYnFpPa",
      "execution_count": 2,
      "outputs": [
        {
          "output_type": "stream",
          "name": "stdout",
          "text": [
            "[1, 1, 3, 5, 11, 21, 43, 85, 171, 341, 683, 1365, 2731, 5461, 10923, 21845, 43691, 87381, 174763, 349525, 699051, 1398101, 2796203, 5592405, 11184811, 22369621, 44739243, 89478485, 178956971, 357913941, 715827883, 1431655765, 2863311531, 5726623061, 11453246123, 22906492245, 45812984491, 91625968981, 183251937963, 366503875925, 733007751851, 1466015503701, 2932031007403, 5864062014805, 11728124029611, 23456248059221, 46912496118443, 93824992236885, 187649984473771, 375299968947541, 750599937895083, 1501199875790165, 3002399751580331, 6004799503160661, 12009599006321323, 24019198012642645, 48038396025285291, 96076792050570581, 192153584101141163, 384307168202282325, 768614336404564651, 1537228672809129301, 3074457345618258603, 6148914691236517205, 12297829382473034411, 24595658764946068821, 49191317529892137643, 98382635059784275285, 196765270119568550571, 393530540239137101141, 787061080478274202283, 1574122160956548404565, 3148244321913096809131, 6296488643826193618261, 12592977287652387236523, 25185954575304774473045, 50371909150609548946091, 100743818301219097892181, 201487636602438195784363, 402975273204876391568725, 805950546409752783137451, 1611901092819505566274901, 3223802185639011132549803, 6447604371278022265099605, 12895208742556044530199211, 25790417485112089060398421, 51580834970224178120796843, 103161669940448356241593685, 206323339880896712483187371, 412646679761793424966374741, 825293359523586849932749483, 1650586719047173699865498965, 3301173438094347399730997931, 6602346876188694799461995861, 13204693752377389598923991723, 26409387504754779197847983445, 52818775009509558395695966891, 105637550019019116791391933781, 211275100038038233582783867563, 422550200076076467165567735125]\n"
          ]
        }
      ]
    },
    {
      "cell_type": "markdown",
      "source": [
        "Xây dựng mô hình học máy"
      ],
      "metadata": {
        "id": "UHv4O_O4Cf07"
      },
      "id": "UHv4O_O4Cf07"
    },
    {
      "cell_type": "code",
      "source": [
        "import numpy as np\n",
        "from sklearn.model_selection import train_test_split\n",
        "from sklearn.linear_model import LinearRegression\n",
        "from sklearn.metrics import mean_squared_error\n",
        "\n",
        "# Chuẩn bị dữ liệu cho việc xây dựng mô hình\n",
        "X = np.arange(2, n).reshape(-1, 1)\n",
        "y = np.array(sequence[2:])\n",
        "\n",
        "# Chia dữ liệu thành tập huấn luyện và tập kiểm tra\n",
        "X_train, X_test, y_train, y_test = train_test_split(X, y, test_size=0.2, random_state=42)\n",
        "\n",
        "# Xây dựng mô hình học máy (ví dụ: Linear Regression)\n",
        "model = LinearRegression()\n",
        "model.fit(X_train, y_train)\n",
        "\n",
        "# Đánh giá mô hình trên tập kiểm tra\n",
        "y_pred = model.predict(X_test)\n",
        "mse = mean_squared_error(y_test, y_pred)\n",
        "print(\"Mean Squared Error:\", mse)"
      ],
      "metadata": {
        "id": "hrQG8hZwCgnb",
        "outputId": "acc7e610-b19f-4223-8b62-22a9a3db15ff",
        "colab": {
          "base_uri": "https://localhost:8080/"
        }
      },
      "id": "hrQG8hZwCgnb",
      "execution_count": 3,
      "outputs": [
        {
          "output_type": "stream",
          "name": "stdout",
          "text": [
            "Mean Squared Error: 3.185166738801271e+56\n"
          ]
        }
      ]
    },
    {
      "cell_type": "markdown",
      "source": [
        "Cải tiến và đánh giá mô hình cuối cùng\n",
        "Bạn có thể cải tiến mô hình bằng cách sử dụng các mô hình học máy phức tạp hơn như Decision Trees, Random Forests, Neural Networks, v.v. Tùy chỉnh các tham số và kiến trúc mô hình để đạt được hiệu suất tốt hơn trên tập dữ liệu kiểm tra.\n",
        "\n",
        "Lưu ý rằng qui luật bạn cung cấp không phải là một chuỗi thời gian, do đó, việc sử dụng mô hình RNN có thể không phù hợp. Đối với bài toán này, các mô hình học máy cơ bản như Linear Regression, Decision Trees, Random Forests hoặc Gradient Boosting có thể hoạt động tốt.\n",
        "\n",
        "Hãy thử nghiệm với các mô hình khác nhau và điều chỉnh tham số để đánh giá hiệu quả của mô hình cuối cùng trên dữ liệu kiểm tra."
      ],
      "metadata": {
        "id": "gXJ-mhlcDyP9"
      },
      "id": "gXJ-mhlcDyP9"
    }
  ],
  "metadata": {
    "colab": {
      "provenance": [],
      "toc_visible": true,
      "include_colab_link": true
    },
    "kernelspec": {
      "display_name": "Python 3",
      "language": "python",
      "name": "python3"
    },
    "language_info": {
      "codemirror_mode": {
        "name": "ipython",
        "version": 3
      },
      "file_extension": ".py",
      "mimetype": "text/x-python",
      "name": "python",
      "nbconvert_exporter": "python",
      "pygments_lexer": "ipython3",
      "version": "3.7.12"
    },
    "papermill": {
      "default_parameters": {},
      "duration": 18.48237,
      "end_time": "2023-02-07T18:43:13.916527",
      "environment_variables": {},
      "exception": null,
      "input_path": "__notebook__.ipynb",
      "output_path": "__notebook__.ipynb",
      "parameters": {},
      "start_time": "2023-02-07T18:42:55.434157",
      "version": "2.3.4"
    }
  },
  "nbformat": 4,
  "nbformat_minor": 5
}